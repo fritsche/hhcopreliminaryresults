{
 "cells": [
  {
   "cell_type": "code",
   "execution_count": 8,
   "metadata": {},
   "outputs": [],
   "source": [
    "import pandas as pd\n",
    "import numpy as np\n",
    "\n",
    "def join(alg, m, pop_size):\n",
    "    probs=[\"MaF01\", \"MaF02\", \"MaF03\", \"MaF04\", \"MaF05\",\n",
    "           \"MaF06\", \"MaF07\", \"MaF08\", \"MaF09\", \"MaF10\", \n",
    "           \"MaF11\", \"MaF12\", \"MaF13\", \"MaF14\", \"MaF15\"]\n",
    "    runs = [str(i) for i in range(0, 20)]\n",
    "    for prob in probs:\n",
    "        path=\"../MaFMethodology/%s/hhco/%s/%s/output/\"%(m,alg,prob)\n",
    "        df_list=[]\n",
    "        for run in runs:\n",
    "            df = pd.read_csv(path+\"hvimprovement.\"+run, names=[\"HV\"])\n",
    "            df['fe'] = np.arange(len(df))\n",
    "            df['it'] = df['fe'] // pop_size\n",
    "            df['run'] = run\n",
    "            df_list.append(df)\n",
    "        df = pd.concat(df_list)\n",
    "        df = df.groupby(['it', 'run']).mean().reset_index()\n",
    "        df.to_csv(path+\"HVI.csv\")\n",
    "\n",
    "def join_alg(alg):\n",
    "    join(alg=alg, m=5, pop_size=210)\n",
    "    join(alg=alg, m=10, pop_size=275)\n",
    "    join(alg=alg, m=15, pop_size=135)\n",
    "\n",
    "# join_alg(\"HHCOR2\")\n",
    "join_alg(\"HHCORandom\")"
   ]
  }
 ],
 "metadata": {
  "kernelspec": {
   "display_name": "Python 3",
   "language": "python",
   "name": "python3"
  },
  "language_info": {
   "codemirror_mode": {
    "name": "ipython",
    "version": 3
   },
   "file_extension": ".py",
   "mimetype": "text/x-python",
   "name": "python",
   "nbconvert_exporter": "python",
   "pygments_lexer": "ipython3",
   "version": "3.6.5"
  }
 },
 "nbformat": 4,
 "nbformat_minor": 2
}
